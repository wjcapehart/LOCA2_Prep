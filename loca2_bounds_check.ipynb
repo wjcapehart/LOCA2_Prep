{
 "cells": [
  {
   "cell_type": "code",
   "execution_count": 1,
   "id": "2677b5dc-39d4-4562-a078-00e56650a3b1",
   "metadata": {},
   "outputs": [],
   "source": [
    "import os     as os\n",
    "\n",
    "import numpy  as np\n",
    "import xarray as xr\n",
    "\n",
    "import pandas as pd\n",
    "import matplotlib.pyplot as plt"
   ]
  },
  {
   "cell_type": "code",
   "execution_count": 2,
   "id": "70704ad2-bb12-494f-a1fd-4c6b141b83a2",
   "metadata": {},
   "outputs": [],
   "source": [
    "working_directory  = \"./\"\n",
    "\n",
    "loca2_inv_file     = \"./LOCA2_inventory_min_errors_short.csv\"\n",
    "\n",
    "\n",
    "thredds_root_dir   = \"/projects/ECEP/LOCA_MACA_Ensembles/LOCA2/LOCA2_CONUS/Original_CONUS\"\n",
    "thredds_root_url   = \"http://kyrill.ias.sdsmt.edu:8080/thredds/dodsC/LOCA2/Original_CONUS\"\n",
    "\n",
    "variables          = [\"tasmax\", \n",
    "                      \"tasmin\", \n",
    "                      \"pr\"]\n",
    "\n",
    "scenarios          = [\"historical\", \n",
    "                      \"ssp245\", \n",
    "                      \"ssp370\", \n",
    "                      \"ssp585\"]\n",
    "\n",
    "\n",
    "\n",
    "bounds_script_command = 'defdim(\"bnds\",2);lon_bnds=make_bounds(lon,$bnds,\"lon_bnds\");lat_bnds=make_bounds(lat,$bnds,\"lat_bnds\");time_bnds=make_bounds(time,$nv,\"time_bnds\");'"
   ]
  },
  {
   "cell_type": "code",
   "execution_count": null,
   "id": "a3bd54ef-ea55-4e88-af19-83df685283a2",
   "metadata": {},
   "outputs": [],
   "source": []
  },
  {
   "cell_type": "code",
   "execution_count": null,
   "id": "ef1338b6-954a-48c9-836d-e1f09c8d0051",
   "metadata": {},
   "outputs": [],
   "source": []
  },
  {
   "cell_type": "code",
   "execution_count": null,
   "id": "a22a0e54-ec7d-447f-9c1f-09b60487abbf",
   "metadata": {},
   "outputs": [],
   "source": []
  },
  {
   "cell_type": "code",
   "execution_count": 3,
   "id": "6834564e-a638-4812-8d57-03a8c8000e21",
   "metadata": {},
   "outputs": [],
   "source": [
    "loca2_ensembles_list = pd.read_csv(filepath_or_buffer = loca2_inv_file)\n",
    "\n",
    "models  = loca2_ensembles_list[ \"Model\"].values\n",
    "members = loca2_ensembles_list[\"Member\"].values\n",
    "\n",
    "models  =  models[0:1]\n",
    "members = members[0:1]\n",
    "\n"
   ]
  },
  {
   "cell_type": "code",
   "execution_count": 5,
   "id": "e00bc227-d89e-4a4e-b450-c2f37f2aac88",
   "metadata": {},
   "outputs": [
    {
     "ename": "SyntaxError",
     "evalue": "unterminated string literal (detected at line 40) (2866389510.py, line 40)",
     "output_type": "error",
     "traceback": [
      "\u001b[0;36m  Cell \u001b[0;32mIn[5], line 40\u001b[0;36m\u001b[0m\n\u001b[0;31m    print(\"nohup ncks -x -v lon_bnds,lon_bnds2,lat_bnds, time_bounds, in.nc out.nc ,file=f)\u001b[0m\n\u001b[0m          ^\u001b[0m\n\u001b[0;31mSyntaxError\u001b[0m\u001b[0;31m:\u001b[0m unterminated string literal (detected at line 40)\n"
     ]
    }
   ],
   "source": [
    "\n",
    "\n",
    "\n",
    "for m in range(len(models)):\n",
    "    \n",
    "    model  =  models[m]\n",
    "    member = members[m]\n",
    "    \n",
    "    print(\"# ==============================\")\n",
    "\n",
    "    \n",
    "    for scenario in scenarios:\n",
    "        \n",
    "\n",
    "    f = open(file     = \"./fix_bounds\", \n",
    "             mode     = 'w', \n",
    "             encoding = \"utf-8\")        \n",
    "      \n",
    "            \n",
    "        thredds_dir = thredds_root_dir + \"/\" + scenario\n",
    "        thredds_url = thredds_root_url + \"/\" + scenario\n",
    "\n",
    "        fnl_thredds_file = \"LOCA2-CONUS___\" + model + \".\" + member + \"___\" + scenario + \".nc\"\n",
    "        fnl_thredds_loc  = thredds_url + \"/\" + fnl_thredds_file\n",
    "        fnl_thredds_locf  = thredds_dir + \"/\" + fnl_thredds_file\n",
    "        \n",
    "        \n",
    "        #print(fnl_thredds_loc)\n",
    "        try:\n",
    "            xf = xr.open_dataset(filename_or_obj = fnl_thredds_loc)\n",
    "            lon        = xf[\"lon\"].values\n",
    "\n",
    "            lon_bnds   = xf[\"lon_bnds\"].values\n",
    "            lon_bnds_2 = xf[\"lon_bnds_2\"].values\n",
    "            print(\"   \" + model + \".\" + member + \".\" + scenario + \n",
    "                  \" lon_bnds[\"  + str(lon_bnds.min())   + \",\" + str(lon_bnds_2.max()) + \"]\" +\n",
    "                  \" lon_bnds2[\" + str(lon_bnds_2.min()) + \",\" + str(lon_bnds_2.max()) + \"]\")\n",
    "            plt.plot(lon, lon_bnds[  :,0], color = \"blue\")\n",
    "            plt.plot(lon, lon_bnds_2[:,0], color =  \"red\")\n",
    "            plt.legend([\"lon_bnds\", \"lon_bnds_2\"])\n",
    "            plt.title(model + \".\" + member + \".\" + scenario)\n",
    "            plt.show()\n",
    "            print(\"nohup ncks -x -v lon_bnds,lon_bnds2,lat_bnds, time_bounds, in.nc out.nc ,file=f)\n",
    "            \n",
    "        except OSError:\n",
    "            print(model + \".\" + member + \".\" + scenario + \" unavailable.\")\n",
    "                        \n",
    "    f.close() "
   ]
  },
  {
   "cell_type": "code",
   "execution_count": null,
   "id": "8fd9e3b8-d9b1-4655-81ab-7f9b2c9d3f14",
   "metadata": {},
   "outputs": [],
   "source": []
  },
  {
   "cell_type": "code",
   "execution_count": null,
   "id": "fed36799-5555-4ebe-ab8e-b30946ba1d88",
   "metadata": {},
   "outputs": [],
   "source": []
  },
  {
   "cell_type": "code",
   "execution_count": null,
   "id": "bf7ce671-f612-455b-9c32-e02e722236cf",
   "metadata": {},
   "outputs": [],
   "source": []
  },
  {
   "cell_type": "code",
   "execution_count": null,
   "id": "62a61bce-4892-45e9-9c40-ca88ce5218e4",
   "metadata": {},
   "outputs": [],
   "source": []
  },
  {
   "cell_type": "code",
   "execution_count": null,
   "id": "542df457-aaf2-41fd-a41a-6a3939e4455f",
   "metadata": {},
   "outputs": [],
   "source": [
    "        lon        = xf[\"lon\"].min().values\n"
   ]
  },
  {
   "cell_type": "code",
   "execution_count": null,
   "id": "2b032b2d-3e0c-4672-9cfa-c1c2a9cf73eb",
   "metadata": {},
   "outputs": [],
   "source": []
  },
  {
   "cell_type": "code",
   "execution_count": null,
   "id": "aa8c06f0-81c0-41f0-b9eb-dd53bd66e7a8",
   "metadata": {},
   "outputs": [],
   "source": [
    "        lon_bnds_0 = xf[\"lon_bnds\"].values\n",
    "        lon_bnds_1 = xf[\"lon_bnds_2\"].values"
   ]
  },
  {
   "cell_type": "code",
   "execution_count": null,
   "id": "b78c2d3f-1822-4dbf-a4de-93954a740cca",
   "metadata": {},
   "outputs": [],
   "source": [
    "plt.plot(lon,lon_bnds_1)\n",
    "plt.plot(lon,lon_bnds_0)\n",
    "plt.legend([\"lon_bnds_2\",\"lon_bnds\"])"
   ]
  },
  {
   "cell_type": "code",
   "execution_count": null,
   "id": "9917c2f6-706c-4232-b48f-d344885a4811",
   "metadata": {},
   "outputs": [],
   "source": []
  }
 ],
 "metadata": {
  "kernelspec": {
   "display_name": "Python 3 (ipykernel)",
   "language": "python",
   "name": "python3"
  },
  "language_info": {
   "codemirror_mode": {
    "name": "ipython",
    "version": 3
   },
   "file_extension": ".py",
   "mimetype": "text/x-python",
   "name": "python",
   "nbconvert_exporter": "python",
   "pygments_lexer": "ipython3",
   "version": "3.10.10"
  }
 },
 "nbformat": 4,
 "nbformat_minor": 5
}
