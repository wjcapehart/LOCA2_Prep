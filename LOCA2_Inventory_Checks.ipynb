{
 "cells": [
  {
   "cell_type": "markdown",
   "id": "2f07d250-cdcc-4fdb-b470-beba6721efef",
   "metadata": {},
   "source": [
    "# LOCA2 Inventory Checks"
   ]
  },
  {
   "cell_type": "markdown",
   "id": "cc6ac1c7-560d-4c60-abdc-364a12ba7a3a",
   "metadata": {},
   "source": [
    "## Libraries"
   ]
  },
  {
   "cell_type": "code",
   "execution_count": null,
   "id": "cdb4541e-6a5c-4b58-8b8a-bffbe193d9a7",
   "metadata": {},
   "outputs": [],
   "source": [
    "######################################################\n",
    "#\n",
    "# Libraries\n",
    "#\n",
    "\n",
    "\n",
    "import os    as os\n",
    "\n",
    "import numpy as np\n",
    "\n",
    "import xarray as xr\n",
    "\n",
    "import pandas as pd\n",
    "\n",
    "import matplotlib.pyplot as plt\n",
    "\n",
    "#\n",
    "######################################################"
   ]
  },
  {
   "cell_type": "markdown",
   "id": "ea32b2c6-c3b0-44ea-bae7-70e62deda11e",
   "metadata": {},
   "source": [
    "## File Control"
   ]
  },
  {
   "cell_type": "code",
   "execution_count": null,
   "id": "f37735ce-121c-460f-b9d3-281f258f628a",
   "metadata": {},
   "outputs": [],
   "source": [
    "######################################################\n",
    "#\n",
    "# File Control\n",
    "#\n",
    "\n",
    "working_directory  = \"./\"\n",
    "\n",
    "thredds_root_dir   = \"/data/DATASETS/LOCA_MACA_Ensembles/LOCA2/LOCA2_CONUS/Original_CONUS/\"\n",
    "\n",
    "\n",
    "loca2_mod_member_file = \"LOCA2_Model_Member_Complete_List.csv\"\n",
    "\n",
    "\n",
    "\n",
    "\n",
    "Scenarios = [\"historical\",\n",
    "                 \"ssp245\",\n",
    "                 \"ssp370\",\n",
    "                 \"ssp585\"]\n",
    "\n",
    "Vars = [\"tasmax\",\n",
    "        \"tasmin\",\n",
    "            \"pr\"]\n",
    "\n",
    "#\n",
    "######################################################"
   ]
  },
  {
   "cell_type": "markdown",
   "id": "da719b91-0cb4-46b8-bde8-558c3cadea51",
   "metadata": {},
   "source": [
    "## Pull All Possible Models and Members"
   ]
  },
  {
   "cell_type": "code",
   "execution_count": null,
   "id": "427de5ad-06e4-426b-913e-025712fc54b0",
   "metadata": {},
   "outputs": [],
   "source": [
    "######################################################\n",
    "#\n",
    "# Pull Full Inventory List\n",
    "#\n",
    "\n",
    "full_models_and_members_list = pd.read_csv(filepath_or_buffer = loca2_mod_member_file)\n",
    "\n",
    "full_models_and_members_list\n",
    "\n",
    "n_records = len(full_models_and_members_list)\n",
    "\n",
    "display(full_models_and_members_list)\n",
    "\n",
    "display(n_records)\n",
    "\n",
    "#\n",
    "######################################################"
   ]
  },
  {
   "cell_type": "code",
   "execution_count": null,
   "id": "025faf95-8790-4242-9eb2-3290fe995394",
   "metadata": {},
   "outputs": [],
   "source": [
    "loca2_mod_member_file"
   ]
  },
  {
   "cell_type": "markdown",
   "id": "6260f176-963b-4e5e-beb7-c343ad1c4351",
   "metadata": {},
   "source": [
    "## Scan Disk for Available Files"
   ]
  },
  {
   "cell_type": "code",
   "execution_count": null,
   "id": "ae3cd3ff-dcb2-41f8-826d-606ae2a69e31",
   "metadata": {},
   "outputs": [],
   "source": [
    "######################################################\n",
    "#\n",
    "# Scan Disk for Available Files\n",
    "#\n",
    "\n",
    "available_rows =  [False for i in range(len(full_models_and_members_list))]\n",
    "\n",
    "\n",
    "for i in range(len(full_models_and_members_list)):\n",
    "    \n",
    "    for k in range(len(Scenarios)):\n",
    "    \n",
    "        file_name  = \"LOCA2-CONUS___\" + full_models_and_members_list.at[i,\"Model\"]+\".\"+ full_models_and_members_list.at[i,\"Member\"]+\"___\"+Scenarios[k]+\".nc\"\n",
    "\n",
    "        #print(file_name)\n",
    "\n",
    "        file_name  = thredds_root_dir + Scenarios[k] + \"/\" + file_name\n",
    "\n",
    "        if os.path.isfile(file_name):\n",
    "\n",
    "            my_string_all = \"---\"\n",
    "            my_string_max = \"-\"\n",
    "            my_string_min = \"-\"\n",
    "            my_string_pcp = \"-\"\n",
    "            xf         = xr.open_dataset(filename_or_obj = file_name)\n",
    "\n",
    "            if \"tasmax\" in list(xf.keys()):\n",
    "                my_string_max = \"X\"\n",
    "                available_rows[i] = True\n",
    "            if \"tasmin\" in list(xf.keys()):\n",
    "                my_string_min = \"N\"        \n",
    "                available_rows[i] = True\n",
    "            if \"pr\"     in list(xf.keys()):\n",
    "                my_string_pcp = \"P\"    \n",
    "                available_rows[i] = True\n",
    "            full_models_and_members_list.at[i,  Scenarios[k]] = my_string_max+my_string_min+my_string_pcp\n",
    "\n",
    "            \n",
    "\n",
    "\n",
    "full_models_and_members_list.sort_values(by           = [\"Rank\",\"NetError\"],\n",
    "                                         inplace      =                True,\n",
    "                                         ignore_index =                True)\n",
    "        \n",
    "#\n",
    "######################################################"
   ]
  },
  {
   "cell_type": "markdown",
   "id": "f6042f91-5637-4538-9441-8e74210d194c",
   "metadata": {},
   "source": [
    "## Save Data "
   ]
  },
  {
   "cell_type": "code",
   "execution_count": null,
   "id": "09ae1556-a59c-499f-916f-ea1eccd4bcdd",
   "metadata": {},
   "outputs": [],
   "source": [
    "######################################################\n",
    "#\n",
    "# Save Full Inventory\n",
    "#\n",
    "\n",
    "full_models_and_members_list.to_csv(path_or_buf = working_directory + loca2_mod_member_file,\n",
    "                                   index        =  False,\n",
    "                                   na_rep       =     '')\n",
    "\n",
    "#\n",
    "######################################################"
   ]
  },
  {
   "cell_type": "markdown",
   "id": "1b8f9a05-9a98-445f-90a0-71ed2cd34489",
   "metadata": {},
   "source": [
    "# Cut only available files"
   ]
  },
  {
   "cell_type": "code",
   "execution_count": null,
   "id": "4768fe5d-0793-4933-b666-ad1ff029262b",
   "metadata": {},
   "outputs": [],
   "source": [
    "######################################################\n",
    "#\n",
    "# Trim Only Available Ones\n",
    "#\n",
    "\n",
    "avail_models_and_members_list = full_models_and_members_list.copy()\n",
    "\n",
    "avail_models_and_members_list = avail_models_and_members_list[available_rows]\n",
    "\n",
    "avail_models_and_members_list.sort_values(by           = [\"Rank\",\"NetError\"],\n",
    "                                          inplace      =                True,\n",
    "                                          ignore_index =                True)\n",
    "                                                              \n",
    "                                                              \n",
    "display(avail_models_and_members_list)\n",
    "\n",
    "avail_models_and_members_list.to_csv(path_or_buf = working_directory + \"LOCA2_Model_Member_Available_List.csv\",\n",
    "                                    index        =  False,\n",
    "                                    na_rep       =     '')\n",
    "\n",
    "os.system(\"scp ./LOCA2_Model_Member_Available_List.csv wjc@kyrill:\"+thredds_root_dir)\n",
    "os.system(\"scp ./LOCA2_Model_Member_Complete_List.csv wjc@kyrill:\"+thredds_root_dir)\n",
    "\n",
    "#\n",
    "######################################################"
   ]
  }
 ],
 "metadata": {
  "kernelspec": {
   "display_name": "Python 3 (ipykernel)",
   "language": "python",
   "name": "python3"
  },
  "language_info": {
   "codemirror_mode": {
    "name": "ipython",
    "version": 3
   },
   "file_extension": ".py",
   "mimetype": "text/x-python",
   "name": "python",
   "nbconvert_exporter": "python",
   "pygments_lexer": "ipython3",
   "version": "3.9.12"
  }
 },
 "nbformat": 4,
 "nbformat_minor": 5
}
