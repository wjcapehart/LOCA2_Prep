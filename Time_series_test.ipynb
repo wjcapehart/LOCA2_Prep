{
 "cells": [
  {
   "cell_type": "code",
   "execution_count": null,
   "id": "af8b6093-2e32-41c4-a508-178db64cccd1",
   "metadata": {},
   "outputs": [],
   "source": [
    "import numpy             as np\n",
    "import matplotlib.pyplot as plt\n",
    "import xarray            as xr"
   ]
  },
  {
   "cell_type": "code",
   "execution_count": null,
   "id": "e031dd1f-c224-4f20-913a-5e187b0034d4",
   "metadata": {},
   "outputs": [],
   "source": [
    "file = \"/data/DATASETS/LOCA_MACA_Ensembles/LOCA2/LOCA2_CONUS/Original_CONUS/ssp245/LOCA2-CONUS___KACE-1-0-G.r3i1p1f1___ssp245.nc\""
   ]
  },
  {
   "cell_type": "code",
   "execution_count": null,
   "id": "0efc8201-e22d-4af6-9907-d176b746ede3",
   "metadata": {},
   "outputs": [],
   "source": [
    "ds = xr.open_dataset(filename_or_obj = file)\n",
    "\n",
    "display(ds)\n",
    "\n"
   ]
  },
  {
   "cell_type": "code",
   "execution_count": null,
   "id": "d3b8d792-54d4-4497-91f4-3421f2addc51",
   "metadata": {},
   "outputs": [],
   "source": [
    "j = 230\n",
    "i = 420\n",
    "                     \n",
    "tasmax = ds[\"tasmax\"][:,j,i]\n",
    "tasmin = ds[\"tasmin\"][:,j,i]\n",
    "pr     = ds[\"pr\"][:,j,i]\n",
    "\n",
    "\n",
    "    "
   ]
  },
  {
   "cell_type": "code",
   "execution_count": null,
   "id": "f93d8615-4356-4374-aaea-d2b60d0d1fb1",
   "metadata": {},
   "outputs": [],
   "source": [
    "display(tasmax)\n",
    "display(tasmin)\n",
    "display(pr)"
   ]
  },
  {
   "cell_type": "code",
   "execution_count": null,
   "id": "58d8fded-4d87-4bf4-98c5-bad9c4a01aca",
   "metadata": {},
   "outputs": [],
   "source": []
  },
  {
   "cell_type": "code",
   "execution_count": null,
   "id": "56aa3c87-0e68-4cce-95eb-aea90ad28388",
   "metadata": {},
   "outputs": [],
   "source": [
    "tasmin.plot()"
   ]
  },
  {
   "cell_type": "code",
   "execution_count": null,
   "id": "aa4dc076-5315-4386-802e-174f80184492",
   "metadata": {},
   "outputs": [],
   "source": [
    "tasmax.plot()"
   ]
  },
  {
   "cell_type": "code",
   "execution_count": null,
   "id": "3d554995-9c40-4688-b5f1-f948ccb95ac9",
   "metadata": {},
   "outputs": [],
   "source": [
    "pr.plot()"
   ]
  },
  {
   "cell_type": "code",
   "execution_count": null,
   "id": "48517348-9edd-4ae6-9436-28fe075c1251",
   "metadata": {},
   "outputs": [],
   "source": []
  }
 ],
 "metadata": {
  "kernelspec": {
   "display_name": "Python 3 (ipykernel)",
   "language": "python",
   "name": "python3"
  },
  "language_info": {
   "codemirror_mode": {
    "name": "ipython",
    "version": 3
   },
   "file_extension": ".py",
   "mimetype": "text/x-python",
   "name": "python",
   "nbconvert_exporter": "python",
   "pygments_lexer": "ipython3",
   "version": "3.9.12"
  }
 },
 "nbformat": 4,
 "nbformat_minor": 5
}
