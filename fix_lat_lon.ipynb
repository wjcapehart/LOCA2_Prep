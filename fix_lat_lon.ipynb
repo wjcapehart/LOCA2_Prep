{
 "cells": [
  {
   "cell_type": "code",
   "execution_count": null,
   "id": "d69ad2ef-223d-468c-9e00-d7f9b47e7107",
   "metadata": {},
   "outputs": [],
   "source": [
    "import xarray as xr\n",
    "import pandas as pd\n",
    "import matplotlib.pyplot as plt\n",
    "import numpy as np"
   ]
  },
  {
   "cell_type": "code",
   "execution_count": null,
   "id": "ad6dc918-d3c0-494b-9488-cae70eab834c",
   "metadata": {},
   "outputs": [],
   "source": [
    "maskf = xr.open_dataset(\"./LOCA2_MASKS.nc\")\n",
    "treedf = xr.open_dataset(\"http://kyrill.ias.sdsmt.edu:8080/thredds/dodsC/LOCA2/Original_CONUS/historical/LOCA2-CONUS___ACCESS-CM2.r1i1p1f1___historical.nc\")"
   ]
  },
  {
   "cell_type": "code",
   "execution_count": null,
   "id": "952b24a8-71d7-4a6a-84d2-83af5723c17a",
   "metadata": {
    "scrolled": true
   },
   "outputs": [],
   "source": [
    "huc08 = pd.read_excel(io         = \"/Users/wjc/Documents/ArcGIS/Projects/LOCA2_Domain_Prep/WBD_HUC_Names.xlsx\",\n",
    "                      sheet_name = \"WBDHU08\").drop(columns=[\"huc08_areaacres\"])\n",
    "\n",
    "huc06 = pd.read_excel(io         = \"/Users/wjc/Documents/ArcGIS/Projects/LOCA2_Domain_Prep/WBD_HUC_Names.xlsx\",\n",
    "                      sheet_name = \"WBDHU06\").drop(columns=[\"huc02\",\n",
    "                                                            \"huc04\",\n",
    "                                                            \"huc06_states\",\n",
    "                                                            \"huc06_areaacres\",\n",
    "                                                            \"huc06_areasqkm\"]).set_index([\"huc06\"])\n",
    "huc04 = pd.read_excel(io         = \"/Users/wjc/Documents/ArcGIS/Projects/LOCA2_Domain_Prep/WBD_HUC_Names.xlsx\",\n",
    "                      sheet_name = \"WBDHU04\").drop(columns=[\"huc02\",\n",
    "                                                            \"huc04_states\",\n",
    "                                                            \"huc04_areaacres\",\n",
    "                                                            \"huc04_areasqkm\"]).set_index([\"huc04\"])\n",
    "huc02 = pd.read_excel(io         = \"/Users/wjc/Documents/ArcGIS/Projects/LOCA2_Domain_Prep/WBD_HUC_Names.xlsx\",\n",
    "                      sheet_name = \"WBDHU02\").drop(columns=[\"huc02_areaacres\",\n",
    "                                                            \"huc02_states\",\n",
    "                                                            \"huc02_areasqkm\"]).set_index([\"huc02\"])\n",
    "\n",
    "huc08 = huc08.set_index([\"huc06\"]).join(other = huc06)\n",
    "\n",
    "huc08 = huc08.set_index([\"huc04\"]).join(other = huc04)\n",
    "\n",
    "huc08 = huc08.set_index([\"huc02\"]).join(other = huc02)\n",
    "\n",
    "huc08.reset_index(inplace = True)\n",
    "\n",
    "huc08.drop(columns=\"huc02\",\n",
    "           inplace = True)\n",
    "\n",
    "huc08 = huc08[[\"huc08\",\n",
    "               \"huc08_name\",\n",
    "               \"huc06_name\",\n",
    "               \"huc04_name\",\n",
    "               \"huc02_name\",\n",
    "               \"huc08_states\",\n",
    "               \"huc08_areasqkm\"]].set_index(keys=\"huc08\")\n",
    "\n",
    "huc08.to_csv(path_or_buf = \"./HUC08_LUT.csv\")\n",
    "\n",
    "huc08 = xr.Dataset.from_dataframe(huc08)\n",
    "\n",
    "huc08[\"huc08\"] = huc08[\"huc08\"].astype(dtype = np.int32)\n",
    "\n",
    "display(huc08)"
   ]
  },
  {
   "cell_type": "code",
   "execution_count": null,
   "id": "9d16f34c-578a-40d9-ae4a-f2e6e65e8f5a",
   "metadata": {},
   "outputs": [],
   "source": [
    "clim_divs = pd.read_excel(io         = \"/Users/wjc/Documents/ArcGIS/Projects/LOCA2_Domain_Prep/NCEI_ClimDivs.xlsx\")\n",
    "\n",
    "clim_divs.rename(columns = {\"CLIMDIV\":    \"climdiv\", \n",
    "                            \"FIPS_CD\":    \"climdiv_fips\",\n",
    "                            \"STATE_FIPS\": \"climdiv_state_fips\",\n",
    "                            \"CD_2DIG\":    \"climdiv_cd_2digit\",\n",
    "                            \"CD_NEW\":     \"climdiv_cd_new\",\n",
    "                            \"STATE_CODE\": \"climdiv_state_2digit\",\n",
    "                            \"NAME\":       \"climdiv_name\",\n",
    "                            \"STATE\":      \"climdiv_st_name\",\n",
    "                            \"ST_ABBRV\":   \"climdiv_st_abbrv\"},\n",
    "                inplace = True)\n",
    "\n",
    "clim_divs.set_index(keys = \"climdiv\", inplace = True)\n",
    "clim_divs = xr.Dataset.from_dataframe(clim_divs)\n",
    "\n",
    "\n",
    "\n",
    "clim_divs[\"climdiv\"]              = clim_divs[\"climdiv\"             ].astype(dtype = np.int32)\n",
    "clim_divs[\"climdiv_fips\"]         = clim_divs[\"climdiv_fips\"        ].astype(dtype = np.int32)\n",
    "clim_divs[\"climdiv_state_fips\"]   = clim_divs[\"climdiv_state_fips\"  ].astype(dtype = np.int32)\n",
    "clim_divs[\"climdiv_state_2digit\"] = clim_divs[\"climdiv_state_2digit\"].astype(dtype = np.int32)\n",
    "clim_divs[\"climdiv_cd_2digit\"]    = clim_divs[\"climdiv_cd_2digit\"   ].astype(dtype = np.int32)\n",
    "clim_divs[\"climdiv_cd_new\"]       = clim_divs[\"climdiv_cd_new\"      ].astype(dtype = np.int32)\n",
    "clim_divs\n",
    "\n"
   ]
  },
  {
   "cell_type": "code",
   "execution_count": null,
   "id": "b5cb8b1f-e79d-42e2-a090-40b057f3431e",
   "metadata": {},
   "outputs": [],
   "source": []
  },
  {
   "cell_type": "code",
   "execution_count": null,
   "id": "f2ee16b6-ef0e-425c-ae1e-918f3f47a202",
   "metadata": {},
   "outputs": [],
   "source": []
  },
  {
   "cell_type": "code",
   "execution_count": null,
   "id": "54f040ff-dfc4-4f21-a420-b80cd1c69e65",
   "metadata": {},
   "outputs": [],
   "source": [
    "maskf[\"lon\"] = treedf[\"lon\"]\n",
    "maskf[\"lat\"] = treedf[\"lat\"]\n",
    "maskf[\"lon_bnds\"] = treedf[\"lon_bnds\"]\n",
    "maskf[\"lat_bnds\"] = treedf[\"lat_bnds\"]"
   ]
  },
  {
   "cell_type": "code",
   "execution_count": null,
   "id": "b9e9af21-6482-4767-a463-0716eaeebd1d",
   "metadata": {},
   "outputs": [],
   "source": [
    "maskf[\"LOCA2_HUC08\"].values = maskf[\"LOCA2_HUC08\"].values  * maskf[\"LOCA2_MASK\"].values\n",
    "maskf[\"LOCA2_CLIMDIV\"].values = maskf[\"LOCA2_CLIMDIV\"].values  * maskf[\"LOCA2_MASK\"].values\n",
    "\n",
    "\n",
    "mask = maskf[\"LOCA2_MASK\"]\n",
    "hucs = maskf[\"LOCA2_HUC08\"]\n",
    "cds  = maskf[\"LOCA2_CLIMDIV\"]\n",
    "\n",
    "\n",
    "\n",
    "maskf[\"lon\"]      = treedf[\"lon\"]\n",
    "maskf[\"lat\"]      = treedf[\"lat\"]\n",
    "maskf[\"lon_bnds\"] = treedf[\"lon_bnds\"]\n",
    "maskf[\"lat_bnds\"] = treedf[\"lat_bnds\"]"
   ]
  },
  {
   "cell_type": "code",
   "execution_count": null,
   "id": "9145159d-b931-43bc-acbf-49d31af11694",
   "metadata": {},
   "outputs": [],
   "source": [
    "\n",
    "\n",
    "maskf = maskf.merge(other = huc08)\n",
    "maskf = maskf.merge(other = clim_divs)\n"
   ]
  },
  {
   "cell_type": "code",
   "execution_count": null,
   "id": "a72a86a4-ad97-4aef-8d29-e0cc5cdc848a",
   "metadata": {},
   "outputs": [],
   "source": []
  },
  {
   "cell_type": "code",
   "execution_count": null,
   "id": "01874ae4-17e3-4475-a7f9-cc4a5ee68a34",
   "metadata": {},
   "outputs": [],
   "source": [
    "maskf.to_netcdf(\"./LOCA2_MASKS2.nc\")"
   ]
  },
  {
   "cell_type": "code",
   "execution_count": null,
   "id": "18a917b5-695d-4336-b48d-9a143c9fccda",
   "metadata": {},
   "outputs": [],
   "source": []
  }
 ],
 "metadata": {
  "kernelspec": {
   "display_name": "Python 3 (ipykernel)",
   "language": "python",
   "name": "python3"
  },
  "language_info": {
   "codemirror_mode": {
    "name": "ipython",
    "version": 3
   },
   "file_extension": ".py",
   "mimetype": "text/x-python",
   "name": "python",
   "nbconvert_exporter": "python",
   "pygments_lexer": "ipython3",
   "version": "3.9.12"
  }
 },
 "nbformat": 4,
 "nbformat_minor": 5
}
